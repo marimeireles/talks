{
 "cells": [
  {
   "cell_type": "markdown",
   "id": "informational-warehouse",
   "metadata": {},
   "source": [
    "# ipycytoscape: Interactive graphs\n",
    "\n",
    "## A Jupyter - Cytoscape bridge\n",
    "\n",
    "## https://github.com/QuantStack/ipycytoscape\n",
    "\n",
    "\n",
    "A widget enabling interactive graph visualization with cytoscape.js in JupyterLab and the Jupyter notebook.\n",
    "\n",
    "- MIT Licensed\n",
    "\n",
    "**Installation:**\n",
    "\n",
    "```bash\n",
    "conda install -c conda-forge ipycytoscape\n",
    "```"
   ]
  },
  {
   "cell_type": "code",
   "execution_count": null,
   "id": "private-involvement",
   "metadata": {},
   "outputs": [],
   "source": []
  }
 ],
 "metadata": {
  "kernelspec": {
   "display_name": "ipywidgets",
   "language": "python",
   "name": "ipywidgets"
  },
  "language_info": {
   "codemirror_mode": {
    "name": "ipython",
    "version": 3
   },
   "file_extension": ".py",
   "mimetype": "text/x-python",
   "name": "python",
   "nbconvert_exporter": "python",
   "pygments_lexer": "ipython3",
   "version": "3.8.5"
  }
 },
 "nbformat": 4,
 "nbformat_minor": 5
}
